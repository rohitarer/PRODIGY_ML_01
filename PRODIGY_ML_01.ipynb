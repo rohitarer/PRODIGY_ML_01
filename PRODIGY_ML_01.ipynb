{
  "nbformat": 4,
  "nbformat_minor": 0,
  "metadata": {
    "colab": {
      "provenance": [],
      "authorship_tag": "ABX9TyOcBstr3FOG4rcfV+l/kqx9",
      "include_colab_link": true
    },
    "kernelspec": {
      "name": "python3",
      "display_name": "Python 3"
    },
    "language_info": {
      "name": "python"
    }
  },
  "cells": [
    {
      "cell_type": "markdown",
      "metadata": {
        "id": "view-in-github",
        "colab_type": "text"
      },
      "source": [
        "<a href=\"https://colab.research.google.com/github/rohitarer/PRODIGY_ML_01/blob/main/PRODIGY_ML_01.ipynb\" target=\"_parent\"><img src=\"https://colab.research.google.com/assets/colab-badge.svg\" alt=\"Open In Colab\"/></a>"
      ]
    },
    {
      "cell_type": "code",
      "source": [
        "import pandas as pd\n",
        "import numpy as np\n",
        "from sklearn.model_selection import train_test_split\n",
        "from sklearn.linear_model import Ridge\n",
        "from sklearn.metrics import mean_squared_error, r2_score\n",
        "from sklearn.preprocessing import StandardScaler, PolynomialFeatures\n",
        "from sklearn.impute import SimpleImputer\n",
        "from sklearn.pipeline import Pipeline\n",
        "from sklearn.compose import ColumnTransformer"
      ],
      "metadata": {
        "id": "ktT6VP0cofip"
      },
      "execution_count": 94,
      "outputs": []
    },
    {
      "cell_type": "code",
      "source": [
        "# Load the dataset\n",
        "data = pd.read_csv('./train.csv')"
      ],
      "metadata": {
        "id": "8A7DMGHZofmH"
      },
      "execution_count": 95,
      "outputs": []
    },
    {
      "cell_type": "code",
      "source": [
        "# Display the first few rows of the dataset\n",
        "print(data.head())"
      ],
      "metadata": {
        "colab": {
          "base_uri": "https://localhost:8080/"
        },
        "id": "xq_FPrVOofpi",
        "outputId": "7936236c-d412-48e8-a2cb-da4212aeeacb"
      },
      "execution_count": 96,
      "outputs": [
        {
          "output_type": "stream",
          "name": "stdout",
          "text": [
            "   Id  MSSubClass MSZoning  LotFrontage  LotArea Street Alley LotShape  \\\n",
            "0   1          60       RL         65.0     8450   Pave   NaN      Reg   \n",
            "1   2          20       RL         80.0     9600   Pave   NaN      Reg   \n",
            "2   3          60       RL         68.0    11250   Pave   NaN      IR1   \n",
            "3   4          70       RL         60.0     9550   Pave   NaN      IR1   \n",
            "4   5          60       RL         84.0    14260   Pave   NaN      IR1   \n",
            "\n",
            "  LandContour Utilities  ... PoolArea PoolQC Fence MiscFeature MiscVal MoSold  \\\n",
            "0         Lvl    AllPub  ...        0    NaN   NaN         NaN       0      2   \n",
            "1         Lvl    AllPub  ...        0    NaN   NaN         NaN       0      5   \n",
            "2         Lvl    AllPub  ...        0    NaN   NaN         NaN       0      9   \n",
            "3         Lvl    AllPub  ...        0    NaN   NaN         NaN       0      2   \n",
            "4         Lvl    AllPub  ...        0    NaN   NaN         NaN       0     12   \n",
            "\n",
            "  YrSold  SaleType  SaleCondition  SalePrice  \n",
            "0   2008        WD         Normal     208500  \n",
            "1   2007        WD         Normal     181500  \n",
            "2   2008        WD         Normal     223500  \n",
            "3   2006        WD        Abnorml     140000  \n",
            "4   2008        WD         Normal     250000  \n",
            "\n",
            "[5 rows x 81 columns]\n"
          ]
        }
      ]
    },
    {
      "cell_type": "code",
      "source": [
        "# Display the first few rows of the dataset\n",
        "print(data.head())\n",
        "\n",
        "# Display the column names to identify relevant features\n",
        "print(data.columns)"
      ],
      "metadata": {
        "colab": {
          "base_uri": "https://localhost:8080/"
        },
        "id": "suJ3oLXWqM7r",
        "outputId": "f8a750b3-c090-472d-d7a8-213f3590ac39"
      },
      "execution_count": 97,
      "outputs": [
        {
          "output_type": "stream",
          "name": "stdout",
          "text": [
            "   Id  MSSubClass MSZoning  LotFrontage  LotArea Street Alley LotShape  \\\n",
            "0   1          60       RL         65.0     8450   Pave   NaN      Reg   \n",
            "1   2          20       RL         80.0     9600   Pave   NaN      Reg   \n",
            "2   3          60       RL         68.0    11250   Pave   NaN      IR1   \n",
            "3   4          70       RL         60.0     9550   Pave   NaN      IR1   \n",
            "4   5          60       RL         84.0    14260   Pave   NaN      IR1   \n",
            "\n",
            "  LandContour Utilities  ... PoolArea PoolQC Fence MiscFeature MiscVal MoSold  \\\n",
            "0         Lvl    AllPub  ...        0    NaN   NaN         NaN       0      2   \n",
            "1         Lvl    AllPub  ...        0    NaN   NaN         NaN       0      5   \n",
            "2         Lvl    AllPub  ...        0    NaN   NaN         NaN       0      9   \n",
            "3         Lvl    AllPub  ...        0    NaN   NaN         NaN       0      2   \n",
            "4         Lvl    AllPub  ...        0    NaN   NaN         NaN       0     12   \n",
            "\n",
            "  YrSold  SaleType  SaleCondition  SalePrice  \n",
            "0   2008        WD         Normal     208500  \n",
            "1   2007        WD         Normal     181500  \n",
            "2   2008        WD         Normal     223500  \n",
            "3   2006        WD        Abnorml     140000  \n",
            "4   2008        WD         Normal     250000  \n",
            "\n",
            "[5 rows x 81 columns]\n",
            "Index(['Id', 'MSSubClass', 'MSZoning', 'LotFrontage', 'LotArea', 'Street',\n",
            "       'Alley', 'LotShape', 'LandContour', 'Utilities', 'LotConfig',\n",
            "       'LandSlope', 'Neighborhood', 'Condition1', 'Condition2', 'BldgType',\n",
            "       'HouseStyle', 'OverallQual', 'OverallCond', 'YearBuilt', 'YearRemodAdd',\n",
            "       'RoofStyle', 'RoofMatl', 'Exterior1st', 'Exterior2nd', 'MasVnrType',\n",
            "       'MasVnrArea', 'ExterQual', 'ExterCond', 'Foundation', 'BsmtQual',\n",
            "       'BsmtCond', 'BsmtExposure', 'BsmtFinType1', 'BsmtFinSF1',\n",
            "       'BsmtFinType2', 'BsmtFinSF2', 'BsmtUnfSF', 'TotalBsmtSF', 'Heating',\n",
            "       'HeatingQC', 'CentralAir', 'Electrical', '1stFlrSF', '2ndFlrSF',\n",
            "       'LowQualFinSF', 'GrLivArea', 'BsmtFullBath', 'BsmtHalfBath', 'FullBath',\n",
            "       'HalfBath', 'BedroomAbvGr', 'KitchenAbvGr', 'KitchenQual',\n",
            "       'TotRmsAbvGrd', 'Functional', 'Fireplaces', 'FireplaceQu', 'GarageType',\n",
            "       'GarageYrBlt', 'GarageFinish', 'GarageCars', 'GarageArea', 'GarageQual',\n",
            "       'GarageCond', 'PavedDrive', 'WoodDeckSF', 'OpenPorchSF',\n",
            "       'EnclosedPorch', '3SsnPorch', 'ScreenPorch', 'PoolArea', 'PoolQC',\n",
            "       'Fence', 'MiscFeature', 'MiscVal', 'MoSold', 'YrSold', 'SaleType',\n",
            "       'SaleCondition', 'SalePrice'],\n",
            "      dtype='object')\n"
          ]
        }
      ]
    },
    {
      "cell_type": "code",
      "source": [
        "# Define the features and target variable based on the dataset structure\n",
        "features = ['GrLivArea', 'BedroomAbvGr', 'FullBath', 'OverallQual', 'YearBuilt', 'TotalBsmtSF',\n",
        "            '1stFlrSF', '2ndFlrSF', 'GarageCars', 'GarageArea']\n",
        "target = 'SalePrice'"
      ],
      "metadata": {
        "id": "l9dO3sVXofs4"
      },
      "execution_count": 98,
      "outputs": []
    },
    {
      "cell_type": "code",
      "source": [
        "# Prepare the data\n",
        "X = data[features]\n",
        "y = data[target]"
      ],
      "metadata": {
        "id": "-PPY7cbSofwj"
      },
      "execution_count": 99,
      "outputs": []
    },
    {
      "cell_type": "code",
      "source": [
        "# Handle missing values, scaling, and polynomial features\n",
        "numeric_features = features\n",
        "numeric_transformer = Pipeline(steps=[\n",
        "    ('imputer', SimpleImputer(strategy='median')),\n",
        "    ('scaler', StandardScaler()),\n",
        "    ('poly', PolynomialFeatures(degree=2, include_bias=False))])\n",
        "\n",
        "preprocessor = ColumnTransformer(\n",
        "    transformers=[\n",
        "        ('num', numeric_transformer, numeric_features)])"
      ],
      "metadata": {
        "id": "MHXhmrm_tvR4"
      },
      "execution_count": 100,
      "outputs": []
    },
    {
      "cell_type": "code",
      "source": [
        "# Split the data into training and testing sets\n",
        "X_train, X_test, y_train, y_test = train_test_split(X, y, test_size=0.2, random_state=42)"
      ],
      "metadata": {
        "id": "re02NsW_ofzd"
      },
      "execution_count": 101,
      "outputs": []
    },
    {
      "cell_type": "code",
      "source": [
        "# Apply preprocessing\n",
        "X_train = preprocessor.fit_transform(X_train)\n",
        "X_test = preprocessor.transform(X_test)"
      ],
      "metadata": {
        "id": "V3J1BX04t1QW"
      },
      "execution_count": 102,
      "outputs": []
    },
    {
      "cell_type": "code",
      "source": [
        "# Create the Ridge regression model\n",
        "model = Ridge(alpha=1.0)"
      ],
      "metadata": {
        "id": "hebdgTnovXr9"
      },
      "execution_count": 103,
      "outputs": []
    },
    {
      "cell_type": "code",
      "source": [
        "# Create the linear regression model\n",
        "model = LinearRegression()"
      ],
      "metadata": {
        "id": "IAMirsdBof2r"
      },
      "execution_count": 104,
      "outputs": []
    },
    {
      "cell_type": "code",
      "source": [
        "# Train the model\n",
        "model.fit(X_train, y_train)"
      ],
      "metadata": {
        "colab": {
          "base_uri": "https://localhost:8080/",
          "height": 75
        },
        "id": "lj-_AU8Pof5y",
        "outputId": "c3793aba-c717-4f2b-ccae-60c2afd8e86c"
      },
      "execution_count": 105,
      "outputs": [
        {
          "output_type": "execute_result",
          "data": {
            "text/plain": [
              "LinearRegression()"
            ],
            "text/html": [
              "<style>#sk-container-id-6 {color: black;}#sk-container-id-6 pre{padding: 0;}#sk-container-id-6 div.sk-toggleable {background-color: white;}#sk-container-id-6 label.sk-toggleable__label {cursor: pointer;display: block;width: 100%;margin-bottom: 0;padding: 0.3em;box-sizing: border-box;text-align: center;}#sk-container-id-6 label.sk-toggleable__label-arrow:before {content: \"▸\";float: left;margin-right: 0.25em;color: #696969;}#sk-container-id-6 label.sk-toggleable__label-arrow:hover:before {color: black;}#sk-container-id-6 div.sk-estimator:hover label.sk-toggleable__label-arrow:before {color: black;}#sk-container-id-6 div.sk-toggleable__content {max-height: 0;max-width: 0;overflow: hidden;text-align: left;background-color: #f0f8ff;}#sk-container-id-6 div.sk-toggleable__content pre {margin: 0.2em;color: black;border-radius: 0.25em;background-color: #f0f8ff;}#sk-container-id-6 input.sk-toggleable__control:checked~div.sk-toggleable__content {max-height: 200px;max-width: 100%;overflow: auto;}#sk-container-id-6 input.sk-toggleable__control:checked~label.sk-toggleable__label-arrow:before {content: \"▾\";}#sk-container-id-6 div.sk-estimator input.sk-toggleable__control:checked~label.sk-toggleable__label {background-color: #d4ebff;}#sk-container-id-6 div.sk-label input.sk-toggleable__control:checked~label.sk-toggleable__label {background-color: #d4ebff;}#sk-container-id-6 input.sk-hidden--visually {border: 0;clip: rect(1px 1px 1px 1px);clip: rect(1px, 1px, 1px, 1px);height: 1px;margin: -1px;overflow: hidden;padding: 0;position: absolute;width: 1px;}#sk-container-id-6 div.sk-estimator {font-family: monospace;background-color: #f0f8ff;border: 1px dotted black;border-radius: 0.25em;box-sizing: border-box;margin-bottom: 0.5em;}#sk-container-id-6 div.sk-estimator:hover {background-color: #d4ebff;}#sk-container-id-6 div.sk-parallel-item::after {content: \"\";width: 100%;border-bottom: 1px solid gray;flex-grow: 1;}#sk-container-id-6 div.sk-label:hover label.sk-toggleable__label {background-color: #d4ebff;}#sk-container-id-6 div.sk-serial::before {content: \"\";position: absolute;border-left: 1px solid gray;box-sizing: border-box;top: 0;bottom: 0;left: 50%;z-index: 0;}#sk-container-id-6 div.sk-serial {display: flex;flex-direction: column;align-items: center;background-color: white;padding-right: 0.2em;padding-left: 0.2em;position: relative;}#sk-container-id-6 div.sk-item {position: relative;z-index: 1;}#sk-container-id-6 div.sk-parallel {display: flex;align-items: stretch;justify-content: center;background-color: white;position: relative;}#sk-container-id-6 div.sk-item::before, #sk-container-id-6 div.sk-parallel-item::before {content: \"\";position: absolute;border-left: 1px solid gray;box-sizing: border-box;top: 0;bottom: 0;left: 50%;z-index: -1;}#sk-container-id-6 div.sk-parallel-item {display: flex;flex-direction: column;z-index: 1;position: relative;background-color: white;}#sk-container-id-6 div.sk-parallel-item:first-child::after {align-self: flex-end;width: 50%;}#sk-container-id-6 div.sk-parallel-item:last-child::after {align-self: flex-start;width: 50%;}#sk-container-id-6 div.sk-parallel-item:only-child::after {width: 0;}#sk-container-id-6 div.sk-dashed-wrapped {border: 1px dashed gray;margin: 0 0.4em 0.5em 0.4em;box-sizing: border-box;padding-bottom: 0.4em;background-color: white;}#sk-container-id-6 div.sk-label label {font-family: monospace;font-weight: bold;display: inline-block;line-height: 1.2em;}#sk-container-id-6 div.sk-label-container {text-align: center;}#sk-container-id-6 div.sk-container {/* jupyter's `normalize.less` sets `[hidden] { display: none; }` but bootstrap.min.css set `[hidden] { display: none !important; }` so we also need the `!important` here to be able to override the default hidden behavior on the sphinx rendered scikit-learn.org. See: https://github.com/scikit-learn/scikit-learn/issues/21755 */display: inline-block !important;position: relative;}#sk-container-id-6 div.sk-text-repr-fallback {display: none;}</style><div id=\"sk-container-id-6\" class=\"sk-top-container\"><div class=\"sk-text-repr-fallback\"><pre>LinearRegression()</pre><b>In a Jupyter environment, please rerun this cell to show the HTML representation or trust the notebook. <br />On GitHub, the HTML representation is unable to render, please try loading this page with nbviewer.org.</b></div><div class=\"sk-container\" hidden><div class=\"sk-item\"><div class=\"sk-estimator sk-toggleable\"><input class=\"sk-toggleable__control sk-hidden--visually\" id=\"sk-estimator-id-6\" type=\"checkbox\" checked><label for=\"sk-estimator-id-6\" class=\"sk-toggleable__label sk-toggleable__label-arrow\">LinearRegression</label><div class=\"sk-toggleable__content\"><pre>LinearRegression()</pre></div></div></div></div></div>"
            ]
          },
          "metadata": {},
          "execution_count": 105
        }
      ]
    },
    {
      "cell_type": "code",
      "source": [
        "# Make predictions\n",
        "y_pred = model.predict(X_test)\n",
        "y_pred"
      ],
      "metadata": {
        "colab": {
          "base_uri": "https://localhost:8080/"
        },
        "id": "091NIV7xof9H",
        "outputId": "7e019b53-44f2-48de-f874-c298385286b0"
      },
      "execution_count": 106,
      "outputs": [
        {
          "output_type": "execute_result",
          "data": {
            "text/plain": [
              "array([138237.54056608, 310078.65374836, 123751.43684079, 170281.28912559,\n",
              "       318621.69266116,  72503.99484775, 206130.2963572 , 157382.02692873,\n",
              "        72052.86554833, 133352.01835247, 152301.57323386, 114250.16298649,\n",
              "       155635.61370719, 219733.5748637 , 185573.99823037, 127508.95491096,\n",
              "       202187.22255877, 133563.96101806, 125552.88945481, 211908.00109445,\n",
              "       165520.59311325, 204825.36515573, 169130.0998332 , 123173.32630087,\n",
              "       205784.30272529, 169204.04319039, 196311.45891756, 104442.38712564,\n",
              "       178704.44062498, 206321.12338606, 104008.28674356, 268728.33940631,\n",
              "        98506.22046208, 117408.76594631, 268401.38911763, 142291.46754495,\n",
              "       152946.67944282, 219136.1455298 , 305727.93070232,  92426.23194028,\n",
              "        87069.35254177, 230762.48308779, 123944.51836123, 345882.30151646,\n",
              "       127021.05604007, 187121.67064268, 123273.86786517, 122116.38856083,\n",
              "       399975.25518292, 142443.48901071, 117635.31858695, 203431.94639005,\n",
              "       117647.98642061, 281231.9114526 , 138075.05592789, 241651.09207935,\n",
              "       198636.45706062, 136747.10427066, 151566.04336348,  86826.49236218,\n",
              "        62068.24925823, 145396.30019102, 331324.18686315, 272826.01923665,\n",
              "       287192.42084502, 188672.07851922, 107392.60424964, 301077.58866752,\n",
              "       117284.23626666, 155654.21984638, 136742.96554199, 133230.99823314,\n",
              "       115852.06318175,  89677.41072987, 406929.72668753, 187574.70732066,\n",
              "       328720.41591072, 306960.76878883, 138729.550694  , 115310.33097484,\n",
              "       103869.03589389, 117279.16842433, 133711.93278529,  93963.22092242,\n",
              "       155123.12147195, 121059.21544983, 294097.50733724, 224307.33521578,\n",
              "       138075.05592789, 169409.17499774, 180672.48761348, 152918.86388663,\n",
              "       118650.48969066, 277483.89841464, 135160.49606951, 176251.4794812 ,\n",
              "       158317.79847867, 167549.83613545, 231163.4275254 , 245595.54278789,\n",
              "       202938.51241195, 212405.69596774, 267544.6074003 , 117729.96057807,\n",
              "       176288.66828808, 191232.19865766, 139274.1177534 , 273603.41859928,\n",
              "       147145.66222906, 182067.50917256,  52743.52209823, 121483.58612543,\n",
              "       131095.58063879, 137587.98133391, 222734.83033159, 104617.34153611,\n",
              "       113889.19896385,  21666.51990721, 158232.45944289, 389652.88488393,\n",
              "       124412.64847405, 138075.05592789, 177661.70219967, 173941.67297091,\n",
              "       183523.88346065, 120743.0501496 , 256814.43011724,  85386.18584394,\n",
              "       144185.94725277, 176954.33813278, 188358.04206361, 328969.30125344,\n",
              "       211539.94394538, 180238.93168   , 118338.9995126 , 333748.31457375,\n",
              "       380582.15264433, 123499.86416864, 247737.89644307, 561366.39694401,\n",
              "       355475.7623584 , 121790.71790705, 177540.76287365, 157257.85377411,\n",
              "       132404.42258179, 115609.64767629, 197401.65819293, 205256.53750703,\n",
              "       115975.68461089,  86490.55414844, 105983.63375794, 146034.42230318,\n",
              "       244740.71911942, 198500.44652797, 108811.60381193, 146799.54831492,\n",
              "       121616.60458278, 184455.46311065,  73830.27532397, 127759.94873795,\n",
              "       189577.27709064, 202262.17498468, 269674.87806235, 131972.95274086,\n",
              "       121367.0306575 , 143000.02163514, 231027.41491586, 350210.39212582,\n",
              "       427647.17186697, 212926.41856131, 345446.68412259,  77336.78792964,\n",
              "       -28528.78643722, 163012.65062183, 299573.50942681, 109701.75680584,\n",
              "       142524.10454249, 210575.47289691, 118733.92489395, 170889.89317205,\n",
              "       145418.69879217, 123925.14875739, 127152.23710326, 138040.21874853,\n",
              "       256281.2277208 , 168541.35208976, 269433.05391448, 226499.46115831,\n",
              "       208351.43930826, 116971.21775334, 140432.35234451, 121216.86799236,\n",
              "       117444.56019261, 143187.33997704, 187740.55372726, 169894.3537599 ,\n",
              "       234100.86321232, 109613.54325997, 224058.95179482, 121805.09806018,\n",
              "       220783.69881245, 165070.27150948, 113347.70331073, 339218.27448847,\n",
              "       193782.26845619, 117027.6875107 , 257898.37030457, 141310.27678703,\n",
              "       146153.7544748 , 115265.13114196, 247203.52522641, 148876.73695834,\n",
              "       111390.44783848, 160126.12033106, 208081.19547086, 242448.89458556,\n",
              "       262658.83058646, 139773.53968766, 140056.6044289 , 133617.6379666 ,\n",
              "       115154.11863862, 223200.70805322, 170704.53367166, 113232.35154483,\n",
              "       238066.38671719, 152515.49412446,  98431.77378049,  93988.7141752 ,\n",
              "       166357.18845102,  91329.08221997,  94035.92245758, 159664.17587448,\n",
              "       120335.92090287, 129846.34336453, 239561.55702959, 119083.03744906,\n",
              "       193918.12766186, 158849.0310505 , 235161.6556993 , 121886.22029869,\n",
              "        87869.75272444, 235618.14925658, 207061.67758668, 476160.05966013,\n",
              "       190342.69446314, 119088.46078917, 157180.35531536, 159910.26208316,\n",
              "       140659.29613713, 105933.99657089, 181689.36250434, 153021.6338569 ,\n",
              "       134751.94739144,  86647.85421299, 135890.32715616, 145085.39447368,\n",
              "       126381.12404074, 124801.84929718, 172868.84893814, 267678.10373823,\n",
              "       313902.87388691, 166636.43354976, 119022.37183626, 230562.0069426 ,\n",
              "       254268.84393297, 209843.05969053, 176241.58104986, 137785.08950725,\n",
              "       137041.99505518, 148823.09014565, 423608.52827501, 222214.03525631,\n",
              "       243419.1597149 , 119078.54921361, 118034.67700044, 149394.13121016,\n",
              "       203844.34396107, 324658.57515885, 140836.71187884, 136605.83737541,\n",
              "       211222.08721129,  71447.05351849, 193074.01656655,  98281.4709465 ,\n",
              "       280927.59694571, 188500.51877588, 224032.66936432, 126628.02731474,\n",
              "       221619.36823794, 168184.57439527, 128922.10046198, 109702.02209158])"
            ]
          },
          "metadata": {},
          "execution_count": 106
        }
      ]
    },
    {
      "cell_type": "code",
      "source": [
        "# Evaluate the model\n",
        "mse = mean_squared_error(y_test, y_pred)\n",
        "r2 = r2_score(y_test, y_pred)\n",
        "\n",
        "print(f'Mean Squared Error: {mse}')\n",
        "print(f'R-squared: {r2}')"
      ],
      "metadata": {
        "colab": {
          "base_uri": "https://localhost:8080/"
        },
        "id": "JwWh61ciogAe",
        "outputId": "58359248-4a11-4fe1-d75c-8fc10ea3deb3"
      },
      "execution_count": 107,
      "outputs": [
        {
          "output_type": "stream",
          "name": "stdout",
          "text": [
            "Mean Squared Error: 1188213284.7381086\n",
            "R-squared: 0.845089602105221\n"
          ]
        }
      ]
    },
    {
      "cell_type": "code",
      "source": [
        "# # Display the coefficients\n",
        "# coefficients = pd.DataFrame(model.coef_, features, columns=['Coefficient'])\n",
        "# print(coefficients)"
      ],
      "metadata": {
        "id": "EDCx9s1Ko6ek"
      },
      "execution_count": 108,
      "outputs": []
    },
    {
      "cell_type": "code",
      "source": [
        "score = model.score(X_test, y_test)\n",
        "score"
      ],
      "metadata": {
        "colab": {
          "base_uri": "https://localhost:8080/"
        },
        "id": "boONYrivo6iY",
        "outputId": "1268a559-151a-4d09-fa7b-f7829ac703f6"
      },
      "execution_count": 109,
      "outputs": [
        {
          "output_type": "execute_result",
          "data": {
            "text/plain": [
              "0.845089602105221"
            ]
          },
          "metadata": {},
          "execution_count": 109
        }
      ]
    }
  ]
}